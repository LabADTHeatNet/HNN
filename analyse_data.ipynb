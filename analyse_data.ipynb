{
 "cells": [
  {
   "cell_type": "code",
   "execution_count": 1,
   "id": "593450b8-7f32-4ca5-8f49-5555d8c07216",
   "metadata": {},
   "outputs": [],
   "source": [
    "import pandas as pd\n",
    "from pathlib import Path\n",
    "import re\n",
    "from tqdm import tqdm"
   ]
  },
  {
   "cell_type": "code",
   "execution_count": 2,
   "id": "c959bd1c-6f31-42ea-b7d9-59c71ccba095",
   "metadata": {},
   "outputs": [],
   "source": [
    "# Функция для извлечения из имени файла: Tout (может быть отрицательным), category, type, tube_number, exp_number\n",
    "# Пример category ideal: 'datasets/Termo_model/Tout_<Tout>/good/Thermo_model_db_n_nodes_ideal.csv'\n",
    "# Пример category good: 'datasets/Termo_model/Tout_<Tout>/good/Thermo_model_db_n_nodes_V<exp_number>.csv'\n",
    "# Пример category problem: 'datasets/Termo_model/Tout_<Tout>/problem/tube_<tube_number>/Thermo_model_db_n_nodes_pr<exp_number>.csv'\n",
    "def parse_filename(nodes_fp):\n",
    "    nodes_fp = str(nodes_fp)\n",
    "    edges_fp = nodes_fp.replace('_nodes_', '_tubes_')\n",
    "\n",
    "    # Извлекаем Tout\n",
    "    tout_match = re.search(r'Tout_([-+]?\\d+\\.?\\d*)', nodes_fp)\n",
    "    if tout_match:\n",
    "        tout = float(tout_match.group(1))\n",
    "    else:\n",
    "        raise ValueError(f\"Tou value not found in filename: {nodes_fp}\")\n",
    "\n",
    "    ret = dict(\n",
    "        nodes_fp=nodes_fp,\n",
    "        edges_fp=edges_fp,\n",
    "        # nodes_df=pd.read_csv(nodes_fp, sep='\\t'),\n",
    "        # edges_df=pd.read_csv(edges_fp, sep='\\t'),\n",
    "        tout=tout,\n",
    "        category=None,\n",
    "        exp_number=None,\n",
    "        tube_number=None\n",
    "    )\n",
    "    # Извлекаем category\n",
    "    if 'ideal' in nodes_fp:\n",
    "        ret['category'] = 'ideal'\n",
    "    elif 'good' in nodes_fp:\n",
    "        ret['category'] = 'good'\n",
    "        ret['exp_number'] = re.search(r'V(\\d+)', nodes_fp).group(1)\n",
    "    elif 'problem' in nodes_fp:\n",
    "        ret['category'] = 'problem'\n",
    "        ret['tube_number'] = re.search(r'tube_(\\d+)', nodes_fp).group(1)\n",
    "        ret['exp_number'] = re.search(r'pr(\\d+)', nodes_fp).group(1)\n",
    "    else:\n",
    "        raise ValueError(f\"Unknown category in filename: {nodes_fp}\")\n",
    "\n",
    "    return ret"
   ]
  },
  {
   "cell_type": "code",
   "execution_count": 3,
   "id": "29f0e828",
   "metadata": {},
   "outputs": [],
   "source": [
    "root_dir = 'datasets/Termo_model/'\n",
    "\n",
    "# Получить все файлы в директории\n",
    "files = sorted(list(Path(root_dir).glob('**/*nodes*.csv')))"
   ]
  },
  {
   "cell_type": "code",
   "execution_count": 4,
   "id": "e663b7f9",
   "metadata": {},
   "outputs": [
    {
     "name": "stderr",
     "output_type": "stream",
     "text": [
      "100%|██████████| 42570/42570 [00:00<00:00, 408293.21it/s]\n"
     ]
    }
   ],
   "source": [
    "data_by_category = {\n",
    "    'ideal': [],\n",
    "    'good': [],\n",
    "    'problem': []\n",
    "}\n",
    "for fp in tqdm(files):\n",
    "    data = parse_filename(fp)\n",
    "    data_by_category[data['category']].append(data)\n",
    "\n",
    "# Сортируем по Tout, tube_number и exp_number\n",
    "for category in data_by_category:\n",
    "    data_by_category[category].sort(key=lambda x: (x['tout'], x.get('tube_number', ''), x.get('exp_number', '')))"
   ]
  },
  {
   "cell_type": "code",
   "execution_count": 5,
   "id": "dbe91f9f",
   "metadata": {},
   "outputs": [
    {
     "name": "stdout",
     "output_type": "stream",
     "text": [
      "datasets/Termo_model/Tout_-34/good/Thermo_model_db_n_nodes_ideal.csv -34.0 ideal\n",
      "datasets/Termo_model/Tout_-33/good/Thermo_model_db_n_nodes_ideal.csv -33.0 ideal\n",
      "datasets/Termo_model/Tout_-32/good/Thermo_model_db_n_nodes_ideal.csv -32.0 ideal\n"
     ]
    }
   ],
   "source": [
    "for d in data_by_category['ideal'][:3]:\n",
    "    print(d['nodes_fp'], d['tout'], d['category'])"
   ]
  },
  {
   "cell_type": "code",
   "execution_count": 6,
   "id": "08b04199",
   "metadata": {},
   "outputs": [],
   "source": [
    "# Объединить таблицы nodes и edges по data_list\n",
    "def combine_data(data_list):\n",
    "    combined_nodes = pd.concat([pd.read_csv(d['nodes_fp'], sep='\\t') for d in data_list], ignore_index=True)\n",
    "    combined_edges = pd.concat([pd.read_csv(d['edges_fp'], sep='\\t') for d in data_list], ignore_index=True)\n",
    "    return combined_nodes, combined_edges"
   ]
  },
  {
   "cell_type": "code",
   "execution_count": 7,
   "id": "48f472ab",
   "metadata": {},
   "outputs": [
    {
     "data": {
      "text/plain": [
       "<Axes: >"
      ]
     },
     "execution_count": 7,
     "metadata": {},
     "output_type": "execute_result"
    },
    {
     "data": {
      "image/png": "[encoded data removed]",
      "text/plain": [
       "<Figure size 640x480 with 1 Axes>"
      ]
     },
     "metadata": {},
     "output_type": "display_data"
    }
   ],
   "source": [
    "combined_nodes, combined_edges = combine_data(data_by_category['ideal'])\n",
    "combined_edges['moded'].hist(bins=100, log=True)"
   ]
  },
  {
   "cell_type": "code",
   "execution_count": 8,
   "id": "64f07255",
   "metadata": {},
   "outputs": [
    {
     "data": {
      "text/plain": [
       "<Axes: >"
      ]
     },
     "execution_count": 8,
     "metadata": {},
     "output_type": "execute_result"
    },
    {
     "data": {
      "image/png": "[encoded data removed]",
      "text/plain": [
       "<Figure size 640x480 with 1 Axes>"
      ]
     },
     "metadata": {},
     "output_type": "display_data"
    }
   ],
   "source": [
    "combined_nodes, combined_edges = combine_data(data_by_category['good'])\n",
    "combined_edges['moded'].hist(bins=100, log=True)"
   ]
  },
  {
   "cell_type": "code",
   "execution_count": 9,
   "id": "b460a867",
   "metadata": {},
   "outputs": [
    {
     "data": {
      "text/plain": [
       "<Axes: >"
      ]
     },
     "execution_count": 9,
     "metadata": {},
     "output_type": "execute_result"
    },
    {
     "data": {
      "image/png": "[encoded data removed]",
      "text/plain": [
       "<Figure size 640x480 with 1 Axes>"
      ]
     },
     "metadata": {},
     "output_type": "display_data"
    }
   ],
   "source": [
    "combined_nodes, combined_edges = combine_data(data_by_category['problem'][:1000])\n",
    "combined_edges['moded'].hist(bins=100, log=True)"
   ]
  },
  {
   "cell_type": "code",
   "execution_count": null,
   "id": "4fa4f32a",
   "metadata": {},
   "outputs": [],
   "source": []
  }
 ],
 "metadata": {
  "kernelspec": {
   "display_name": "hnn",
   "language": "python",
   "name": "hnn"
  },
  "language_info": {
   "codemirror_mode": {
    "name": "ipython",
    "version": 3
   },
   "file_extension": ".py",
   "mimetype": "text/x-python",
   "name": "python",
   "nbconvert_exporter": "python",
   "pygments_lexer": "ipython3",
   "version": "3.12.7"
  }
 },
 "nbformat": 4,
 "nbformat_minor": 5
}
